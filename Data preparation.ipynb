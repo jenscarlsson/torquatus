{
 "cells": [
  {
   "cell_type": "markdown",
   "id": "923a4dfe",
   "metadata": {},
   "source": [
    "# Data preparation\n",
    "## Read and merge the sourcefiles (.xlsx) from www.artportalen.se\n"
   ]
  },
  {
   "cell_type": "code",
   "execution_count": 2,
   "id": "af98cbd4",
   "metadata": {},
   "outputs": [],
   "source": [
    "import pandas as pd\n",
    "from datetime import date"
   ]
  },
  {
   "cell_type": "markdown",
   "id": "64be83bb",
   "metadata": {},
   "source": [
    "### Read the files to individual data frames"
   ]
  },
  {
   "cell_type": "code",
   "execution_count": 3,
   "id": "270de143",
   "metadata": {},
   "outputs": [],
   "source": [
    "df1 = pd.read_excel(\"Excelexport_1.xlsx\",header=[2], index_col =[0])\n",
    "df2 = pd.read_excel(\"Excelexport_2.xlsx\",header=[2], index_col =[0])\n",
    "df3 = pd.read_excel(\"Excelexport_3.xlsx\",header=[2], index_col =[0])\n",
    "df4 = pd.read_excel(\"Excelexport_4.xlsx\",header=[2], index_col =[0])\n",
    "df5 = pd.read_excel(\"Excelexport_5.xlsx\",header=[2], index_col =[0])\n"
   ]
  },
  {
   "cell_type": "markdown",
   "id": "50864cfe",
   "metadata": {},
   "source": [
    "### Merge the data frames together"
   ]
  },
  {
   "cell_type": "code",
   "execution_count": 4,
   "id": "d92978e3",
   "metadata": {},
   "outputs": [],
   "source": [
    "#Union the dfs into one large dataframe for further processing\n",
    "frames = [df2,df3,df4,df5]\n",
    "merged_dfs = df1.append(frames)\n"
   ]
  },
  {
   "cell_type": "code",
   "execution_count": 4,
   "id": "62662b9d",
   "metadata": {},
   "outputs": [
    {
     "name": "stdout",
     "output_type": "stream",
     "text": [
      "40108\n"
     ]
    },
    {
     "data": {
      "text/html": [
       "<div>\n",
       "<style scoped>\n",
       "    .dataframe tbody tr th:only-of-type {\n",
       "        vertical-align: middle;\n",
       "    }\n",
       "\n",
       "    .dataframe tbody tr th {\n",
       "        vertical-align: top;\n",
       "    }\n",
       "\n",
       "    .dataframe thead th {\n",
       "        text-align: right;\n",
       "    }\n",
       "</style>\n",
       "<table border=\"1\" class=\"dataframe\">\n",
       "  <thead>\n",
       "    <tr style=\"text-align: right;\">\n",
       "      <th></th>\n",
       "      <th>Taxonsorteringsordning</th>\n",
       "      <th>Valideringsstatus</th>\n",
       "      <th>Rödlistade</th>\n",
       "      <th>Artnamn</th>\n",
       "      <th>Vetenskapligt namn</th>\n",
       "      <th>Auktor</th>\n",
       "      <th>Antal</th>\n",
       "      <th>Enhet</th>\n",
       "      <th>Ålder/stadium</th>\n",
       "      <th>Kön</th>\n",
       "      <th>...</th>\n",
       "      <th>Samlingsbeskrivning</th>\n",
       "      <th>Artbestämd av</th>\n",
       "      <th>Bestämningsår</th>\n",
       "      <th>Bekräftad av</th>\n",
       "      <th>Bekräftelseår</th>\n",
       "      <th>Redigeringsansvarig</th>\n",
       "      <th>Rapportör</th>\n",
       "      <th>Observatörer</th>\n",
       "      <th>DNA sekvens</th>\n",
       "      <th>Projektnamn</th>\n",
       "    </tr>\n",
       "    <tr>\n",
       "      <th>Id</th>\n",
       "      <th></th>\n",
       "      <th></th>\n",
       "      <th></th>\n",
       "      <th></th>\n",
       "      <th></th>\n",
       "      <th></th>\n",
       "      <th></th>\n",
       "      <th></th>\n",
       "      <th></th>\n",
       "      <th></th>\n",
       "      <th></th>\n",
       "      <th></th>\n",
       "      <th></th>\n",
       "      <th></th>\n",
       "      <th></th>\n",
       "      <th></th>\n",
       "      <th></th>\n",
       "      <th></th>\n",
       "      <th></th>\n",
       "      <th></th>\n",
       "      <th></th>\n",
       "    </tr>\n",
       "  </thead>\n",
       "  <tbody>\n",
       "    <tr>\n",
       "      <th>17364564</th>\n",
       "      <td>55023</td>\n",
       "      <td>Ovaliderad</td>\n",
       "      <td>NaN</td>\n",
       "      <td>Ringtrast</td>\n",
       "      <td>Turdus torquatus</td>\n",
       "      <td>Linnaeus, 1758</td>\n",
       "      <td>1</td>\n",
       "      <td>NaN</td>\n",
       "      <td>adult</td>\n",
       "      <td>hane</td>\n",
       "      <td>...</td>\n",
       "      <td>NaN</td>\n",
       "      <td>NaN</td>\n",
       "      <td>NaN</td>\n",
       "      <td>NaN</td>\n",
       "      <td>NaN</td>\n",
       "      <td>Anders Eriksson</td>\n",
       "      <td>Anders Eriksson</td>\n",
       "      <td>Anders Eriksson</td>\n",
       "      <td>NaN</td>\n",
       "      <td>NaN</td>\n",
       "    </tr>\n",
       "    <tr>\n",
       "      <th>17364574</th>\n",
       "      <td>55023</td>\n",
       "      <td>Ovaliderad</td>\n",
       "      <td>NaN</td>\n",
       "      <td>Ringtrast</td>\n",
       "      <td>Turdus torquatus</td>\n",
       "      <td>Linnaeus, 1758</td>\n",
       "      <td>1</td>\n",
       "      <td>NaN</td>\n",
       "      <td>3K+</td>\n",
       "      <td>hane</td>\n",
       "      <td>...</td>\n",
       "      <td>NaN</td>\n",
       "      <td>NaN</td>\n",
       "      <td>NaN</td>\n",
       "      <td>NaN</td>\n",
       "      <td>NaN</td>\n",
       "      <td>Från Rixlarm</td>\n",
       "      <td>Från Rixlarm</td>\n",
       "      <td>NaN</td>\n",
       "      <td>NaN</td>\n",
       "      <td>NaN</td>\n",
       "    </tr>\n",
       "  </tbody>\n",
       "</table>\n",
       "<p>2 rows × 60 columns</p>\n",
       "</div>"
      ],
      "text/plain": [
       "          Taxonsorteringsordning Valideringsstatus  Rödlistade    Artnamn  \\\n",
       "Id                                                                          \n",
       "17364564                   55023        Ovaliderad         NaN  Ringtrast   \n",
       "17364574                   55023        Ovaliderad         NaN  Ringtrast   \n",
       "\n",
       "         Vetenskapligt namn          Auktor Antal Enhet Ålder/stadium   Kön  \\\n",
       "Id                                                                            \n",
       "17364564   Turdus torquatus  Linnaeus, 1758     1   NaN         adult  hane   \n",
       "17364574   Turdus torquatus  Linnaeus, 1758     1   NaN           3K+  hane   \n",
       "\n",
       "          ... Samlingsbeskrivning  Artbestämd av  Bestämningsår Bekräftad av  \\\n",
       "Id        ...                                                                  \n",
       "17364564  ...                 NaN            NaN            NaN          NaN   \n",
       "17364574  ...                 NaN            NaN            NaN          NaN   \n",
       "\n",
       "         Bekräftelseår Redigeringsansvarig        Rapportör     Observatörer  \\\n",
       "Id                                                                             \n",
       "17364564           NaN     Anders Eriksson  Anders Eriksson  Anders Eriksson   \n",
       "17364574           NaN        Från Rixlarm     Från Rixlarm              NaN   \n",
       "\n",
       "          DNA sekvens  Projektnamn  \n",
       "Id                                  \n",
       "17364564          NaN          NaN  \n",
       "17364574          NaN          NaN  \n",
       "\n",
       "[2 rows x 60 columns]"
      ]
     },
     "execution_count": 4,
     "metadata": {},
     "output_type": "execute_result"
    }
   ],
   "source": [
    "#Check the union result, are all expected rows present?\n",
    "print(len(merged_dfs))\n",
    "merged_dfs.head(2)"
   ]
  },
  {
   "cell_type": "markdown",
   "id": "034640b4",
   "metadata": {},
   "source": [
    "## Data cleaning"
   ]
  },
  {
   "cell_type": "markdown",
   "id": "5579dd7d",
   "metadata": {},
   "source": [
    "#### Drop columns that are not needed"
   ]
  },
  {
   "cell_type": "code",
   "execution_count": 5,
   "id": "b401225e",
   "metadata": {},
   "outputs": [],
   "source": [
    "data = merged_dfs[[\"Antal\",\"Ålder/stadium\",\"Kön\",\"Aktivitet\",\"Lokalnamn\",\"Ostkoordinat\",\"Nordkoordinat\",\"Noggrannhet\",\"Diffusion\",\"Län\",\"Kommun\",\"Provins\",\"Startdatum\",\"Starttid\",\"Slutdatum\",\"Sluttid\"]]"
   ]
  },
  {
   "cell_type": "code",
   "execution_count": 111,
   "id": "e55a44c3",
   "metadata": {
    "scrolled": true
   },
   "outputs": [
    {
     "name": "stdout",
     "output_type": "stream",
     "text": [
      "         observed_individuals    age   sex activity        place_name  \\\n",
      "Id                                                                      \n",
      "17364564                    1  adult  hane      NaN       Fågelsundet   \n",
      "17364574                    1    3K+  hane      NaN       Fågelsundet   \n",
      "17370955                    1    NaN   NaN      NaN       Kungsgården   \n",
      "17376315                    1  adult  hane      NaN  Österviks kapell   \n",
      "\n",
      "          longitude  latitude  precision  diffusion    county  municipality  \\\n",
      "Id                                                                            \n",
      "17364564    1616790   6722351        180          0   Uppsala         Tierp   \n",
      "17364574    1616790   6722351        180          0   Uppsala         Tierp   \n",
      "17370955    1537626   6234110        356          0    Kalmar    Mörbylånga   \n",
      "17376315    1401480   6582480        179          0  Värmland  Kristinehamn   \n",
      "\n",
      "          province  start_date start_time    end_date end_time  \n",
      "Id                                                              \n",
      "17364564   Uppland  2000-04-20      11:32  2000-04-20    11:32  \n",
      "17364574   Uppland  2000-04-30      09:10  2000-04-30    09:10  \n",
      "17370955     Öland  2000-04-18      13:28  2000-04-18    13:28  \n",
      "17376315  Värmland  2000-04-25      19:59  2000-04-25    19:59  \n",
      "\n",
      " 40108\n"
     ]
    }
   ],
   "source": [
    "#Let's check the result\n",
    "print(data.head(4))\n",
    "print(\"\\n\",len(data))"
   ]
  },
  {
   "cell_type": "code",
   "execution_count": 8,
   "id": "e3a88f57",
   "metadata": {
    "scrolled": true
   },
   "outputs": [
    {
     "data": {
      "text/html": [
       "<div>\n",
       "<style scoped>\n",
       "    .dataframe tbody tr th:only-of-type {\n",
       "        vertical-align: middle;\n",
       "    }\n",
       "\n",
       "    .dataframe tbody tr th {\n",
       "        vertical-align: top;\n",
       "    }\n",
       "\n",
       "    .dataframe thead th {\n",
       "        text-align: right;\n",
       "    }\n",
       "</style>\n",
       "<table border=\"1\" class=\"dataframe\">\n",
       "  <thead>\n",
       "    <tr style=\"text-align: right;\">\n",
       "      <th></th>\n",
       "      <th>observed_individuals</th>\n",
       "      <th>age</th>\n",
       "      <th>sex</th>\n",
       "      <th>activity</th>\n",
       "      <th>place_name</th>\n",
       "      <th>longitude</th>\n",
       "      <th>latitude</th>\n",
       "      <th>precision</th>\n",
       "      <th>diffusion</th>\n",
       "      <th>county</th>\n",
       "      <th>municipality</th>\n",
       "      <th>province</th>\n",
       "      <th>start_date</th>\n",
       "      <th>start_time</th>\n",
       "      <th>end_date</th>\n",
       "      <th>end_time</th>\n",
       "    </tr>\n",
       "    <tr>\n",
       "      <th>Id</th>\n",
       "      <th></th>\n",
       "      <th></th>\n",
       "      <th></th>\n",
       "      <th></th>\n",
       "      <th></th>\n",
       "      <th></th>\n",
       "      <th></th>\n",
       "      <th></th>\n",
       "      <th></th>\n",
       "      <th></th>\n",
       "      <th></th>\n",
       "      <th></th>\n",
       "      <th></th>\n",
       "      <th></th>\n",
       "      <th></th>\n",
       "      <th></th>\n",
       "    </tr>\n",
       "  </thead>\n",
       "  <tbody>\n",
       "    <tr>\n",
       "      <th>17364564</th>\n",
       "      <td>1</td>\n",
       "      <td>adult</td>\n",
       "      <td>hane</td>\n",
       "      <td>NaN</td>\n",
       "      <td>Fågelsundet</td>\n",
       "      <td>1616790</td>\n",
       "      <td>6722351</td>\n",
       "      <td>180</td>\n",
       "      <td>0</td>\n",
       "      <td>Uppsala</td>\n",
       "      <td>Tierp</td>\n",
       "      <td>Uppland</td>\n",
       "      <td>2000-04-20</td>\n",
       "      <td>11:32</td>\n",
       "      <td>2000-04-20</td>\n",
       "      <td>11:32</td>\n",
       "    </tr>\n",
       "    <tr>\n",
       "      <th>17364574</th>\n",
       "      <td>1</td>\n",
       "      <td>3K+</td>\n",
       "      <td>hane</td>\n",
       "      <td>NaN</td>\n",
       "      <td>Fågelsundet</td>\n",
       "      <td>1616790</td>\n",
       "      <td>6722351</td>\n",
       "      <td>180</td>\n",
       "      <td>0</td>\n",
       "      <td>Uppsala</td>\n",
       "      <td>Tierp</td>\n",
       "      <td>Uppland</td>\n",
       "      <td>2000-04-30</td>\n",
       "      <td>09:10</td>\n",
       "      <td>2000-04-30</td>\n",
       "      <td>09:10</td>\n",
       "    </tr>\n",
       "    <tr>\n",
       "      <th>17370955</th>\n",
       "      <td>1</td>\n",
       "      <td>NaN</td>\n",
       "      <td>NaN</td>\n",
       "      <td>NaN</td>\n",
       "      <td>Kungsgården</td>\n",
       "      <td>1537626</td>\n",
       "      <td>6234110</td>\n",
       "      <td>356</td>\n",
       "      <td>0</td>\n",
       "      <td>Kalmar</td>\n",
       "      <td>Mörbylånga</td>\n",
       "      <td>Öland</td>\n",
       "      <td>2000-04-18</td>\n",
       "      <td>13:28</td>\n",
       "      <td>2000-04-18</td>\n",
       "      <td>13:28</td>\n",
       "    </tr>\n",
       "    <tr>\n",
       "      <th>17376315</th>\n",
       "      <td>1</td>\n",
       "      <td>adult</td>\n",
       "      <td>hane</td>\n",
       "      <td>NaN</td>\n",
       "      <td>Österviks kapell</td>\n",
       "      <td>1401480</td>\n",
       "      <td>6582480</td>\n",
       "      <td>179</td>\n",
       "      <td>0</td>\n",
       "      <td>Värmland</td>\n",
       "      <td>Kristinehamn</td>\n",
       "      <td>Värmland</td>\n",
       "      <td>2000-04-25</td>\n",
       "      <td>19:59</td>\n",
       "      <td>2000-04-25</td>\n",
       "      <td>19:59</td>\n",
       "    </tr>\n",
       "  </tbody>\n",
       "</table>\n",
       "</div>"
      ],
      "text/plain": [
       "         observed_individuals    age   sex activity        place_name  \\\n",
       "Id                                                                      \n",
       "17364564                    1  adult  hane      NaN       Fågelsundet   \n",
       "17364574                    1    3K+  hane      NaN       Fågelsundet   \n",
       "17370955                    1    NaN   NaN      NaN       Kungsgården   \n",
       "17376315                    1  adult  hane      NaN  Österviks kapell   \n",
       "\n",
       "          longitude  latitude  precision  diffusion    county  municipality  \\\n",
       "Id                                                                            \n",
       "17364564    1616790   6722351        180          0   Uppsala         Tierp   \n",
       "17364574    1616790   6722351        180          0   Uppsala         Tierp   \n",
       "17370955    1537626   6234110        356          0    Kalmar    Mörbylånga   \n",
       "17376315    1401480   6582480        179          0  Värmland  Kristinehamn   \n",
       "\n",
       "          province  start_date start_time    end_date end_time  \n",
       "Id                                                              \n",
       "17364564   Uppland  2000-04-20      11:32  2000-04-20    11:32  \n",
       "17364574   Uppland  2000-04-30      09:10  2000-04-30    09:10  \n",
       "17370955     Öland  2000-04-18      13:28  2000-04-18    13:28  \n",
       "17376315  Värmland  2000-04-25      19:59  2000-04-25    19:59  "
      ]
     },
     "execution_count": 8,
     "metadata": {},
     "output_type": "execute_result"
    }
   ],
   "source": [
    "#Rename the columns to make them a bit easier to work with \n",
    "colnames = {\"Antal\":\"observed_individuals\",\n",
    "\"Ålder/stadium\":\"age\",\n",
    "\"Kön\":\"sex\",\n",
    "\"Aktivitet\":\"activity\",\n",
    "\"Lokalnamn\":\"place_name\",\n",
    "\"Ostkoordinat\":\"longitude\",\n",
    "\"Nordkoordinat\":\"latitude\",\n",
    "\"Noggrannhet\":\"precision\",\n",
    "\"Diffusion\":\"diffusion\",\n",
    "\"Län\":\"county\",\n",
    "\"Kommun\":\"municipality\",\n",
    "\"Provins\":\"province\",\n",
    "\"Startdatum\":\"start_date\",\n",
    "\"Starttid\":\"start_time\",\n",
    "\"Slutdatum\":\"end_date\",\n",
    "\"Sluttid\":\"end_time\"}\n",
    "\n",
    "data = data.rename(columns = colnames, inplace= False)\n",
    "data.head(4)\n"
   ]
  },
  {
   "cell_type": "markdown",
   "id": "d56e6f42",
   "metadata": {},
   "source": [
    "#### Check the data types and change if needed"
   ]
  },
  {
   "cell_type": "code",
   "execution_count": 23,
   "id": "1163268d",
   "metadata": {},
   "outputs": [
    {
     "data": {
      "text/plain": [
       "observed_individuals    object\n",
       "age                     object\n",
       "sex                     object\n",
       "activity                object\n",
       "place_name              object\n",
       "longitude                int64\n",
       "latitude                 int64\n",
       "precision                int64\n",
       "diffusion                int64\n",
       "county                  object\n",
       "municipality            object\n",
       "province                object\n",
       "start_date              object\n",
       "start_time              object\n",
       "end_date                object\n",
       "end_time                object\n",
       "dtype: object"
      ]
     },
     "execution_count": 23,
     "metadata": {},
     "output_type": "execute_result"
    }
   ],
   "source": [
    "data.dtypes"
   ]
  },
  {
   "cell_type": "markdown",
   "id": "6c87c4ff",
   "metadata": {},
   "source": [
    "#### Data type issues: \n",
    "* observed_individuals should be int but since artportalen allows you to report the number of reported individuals as \"noterad\" or \"Ej återfunnen\" python has interpreted this field as a string\n",
    "\n",
    "* start_date, end date should be in date format\n",
    "* start_time, end_time should be timestamp format"
   ]
  },
  {
   "cell_type": "code",
   "execution_count": 17,
   "id": "f501f125",
   "metadata": {},
   "outputs": [
    {
     "name": "stdout",
     "output_type": "stream",
     "text": [
      "There are 0 observations with value 'Ej återfunnen', and 0 observations with value 'noterad'.\n",
      "In total 0 (~ 0.0 %) rows are missing numerical values in observed individuals.\n"
     ]
    }
   ],
   "source": [
    "#Check how many of the observations are of the string type\n",
    "not_found = data['observed_individuals'][data.observed_individuals == \"Ej återfunnen\"].count()\n",
    "noted = data['observed_individuals'][data.observed_individuals == \"noterad\"].count()\n",
    "total_missing = not_found + noted\n",
    "print(\"There are {} observations with value 'Ej återfunnen', and {} observations with value 'noterad'.\\nIn total {} (~ {} %) rows are missing numerical values in observed individuals.\".format(not_found,noted,total_missing,(round((total_missing/40108)*100,0))))"
   ]
  },
  {
   "cell_type": "markdown",
   "id": "b9b48507",
   "metadata": {},
   "source": [
    "#### Replace non numeric values in observed_individuals \n",
    "We can assume that there was at least one individual bird present for the observer to note the observation with \"noterad\" and that there where no birds present for the observer to note the observation as \"Ej återfunnen\". Therefore we make the follwing replacements:\n",
    "* \"noterad\" -> 1\n",
    "* \"Ej återfunnen\" -> 0 "
   ]
  },
  {
   "cell_type": "code",
   "execution_count": 15,
   "id": "f7498aed",
   "metadata": {},
   "outputs": [],
   "source": [
    "data['observed_individuals'] = data['observed_individuals'].replace({\"noterad\":1,\"Ej återfunnen\":0})"
   ]
  },
  {
   "cell_type": "markdown",
   "id": "7613f4a1",
   "metadata": {},
   "source": [
    "#### Fix dates and insert ISO week number and month for the observations"
   ]
  },
  {
   "cell_type": "code",
   "execution_count": 10,
   "id": "32069116",
   "metadata": {},
   "outputs": [],
   "source": [
    "#Set the dte and timestamp columns to correct date type\n",
    "\n",
    "data['start_date'] = pd.to_datetime(data['start_date'])\n",
    "data['end_date'] = pd.to_datetime(data['end_date'])\n",
    "\n"
   ]
  },
  {
   "cell_type": "code",
   "execution_count": 13,
   "id": "e0affd0d",
   "metadata": {
    "scrolled": true
   },
   "outputs": [],
   "source": [
    "#Get the ISO week number from the start date, i.e. which week was the observation?\n",
    "#Save result in column 'weeknumber'\n",
    "\n",
    "def ISO_weeknumber(start_date):\n",
    "    date_touple = date.isocalendar(start_date)\n",
    "    return date_touple[1] \n",
    "\n",
    "data['weeknumber'] = data['start_date'].map(ISO_weeknumber)\n",
    "data['month'] = pd.DatetimeIndex(data['start_date']).month\n",
    "\n"
   ]
  },
  {
   "cell_type": "markdown",
   "id": "cff30594",
   "metadata": {},
   "source": [
    "#### Save results to .csv"
   ]
  },
  {
   "cell_type": "code",
   "execution_count": 18,
   "id": "d37539b6",
   "metadata": {},
   "outputs": [],
   "source": [
    "data.to_csv(\"torquatus.csv\", sep=\",\", encoding = \"UTF-8\")"
   ]
  }
 ],
 "metadata": {
  "kernelspec": {
   "display_name": "Python 3",
   "language": "python",
   "name": "python3"
  },
  "language_info": {
   "codemirror_mode": {
    "name": "ipython",
    "version": 3
   },
   "file_extension": ".py",
   "mimetype": "text/x-python",
   "name": "python",
   "nbconvert_exporter": "python",
   "pygments_lexer": "ipython3",
   "version": "3.8.8"
  }
 },
 "nbformat": 4,
 "nbformat_minor": 5
}
